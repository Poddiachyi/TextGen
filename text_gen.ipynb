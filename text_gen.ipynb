{
 "cells": [
  {
   "cell_type": "code",
   "execution_count": 13,
   "metadata": {
    "collapsed": true
   },
   "outputs": [],
   "source": [
    "from utils import *"
   ]
  },
  {
   "cell_type": "code",
   "execution_count": 14,
   "metadata": {
    "collapsed": true
   },
   "outputs": [],
   "source": [
    "basis_texts = ['OHenry.txt', 'Sherlock-Holmes.txt']#'sale.txt', 'sale2.txt']\n",
    "basis_texts = [DIR+'basis/'+bt for bt in basis_texts]\n",
    "themes_texts = ['texts_mba.txt', 'mba2.txt']\n",
    "themes_texts = [DIR+'themes/'+bt for bt in themes_texts]"
   ]
  },
  {
   "cell_type": "markdown",
   "metadata": {},
   "source": [
    "# Main"
   ]
  },
  {
   "cell_type": "code",
   "execution_count": 15,
   "metadata": {},
   "outputs": [
    {
     "name": "stdout",
     "output_type": "stream",
     "text": [
      "61276\n",
      "['Baldy Woods reached for the bottle, and got it.', \"Whenever Baldy went for anything he usually--but this is not Baldy's story.\"]\n",
      "['Mr. Fowler and Miss Rucastle were\\nmarried, by special license, in Southampton the day after their\\nflight, and he is now the holder of a government appointment in\\nthe island of Mauritius.', 'As to Miss Violet Hunter, my friend\\nHolmes, rather to my disappointment, manifested no further\\ninterest in her when once she had ceased to be the centre of one\\nof his problems, and she is now the head of a private school at\\nWalsall, where I believe that she has met with considerable success.']\n",
      "603\n",
      "['Below we provide you a selection of MBA essay samples.', 'It is always helpful to look at samples from other people to get some first general orientation.']\n",
      "['Order from our website now for excellent MBA essay writing help!', 'You can purchase MBA assignments and essays in any of the subjects: Financial Management, Introduction to Accounting 1 and 2, CRM, E-Business, Business Communication, Management, Logistics, Supply Chain, Business Studies, Strategic Marketing, Business Ethics, International Relations, Micro Economics, Business Math, Macro Economics, Business Statistics and etcetera.']\n"
     ]
    }
   ],
   "source": [
    "basis_snts = get_sentences(basis_texts)\n",
    "#shuffle(basis_snts)\n",
    "print(len(basis_snts))\n",
    "print(basis_snts[:2])\n",
    "print(basis_snts[-2:])\n",
    "themes_snts = get_sentences(themes_texts)\n",
    "print(len(themes_snts))\n",
    "print(themes_snts[:2])\n",
    "print(themes_snts[-2:])"
   ]
  },
  {
   "cell_type": "code",
   "execution_count": 16,
   "metadata": {},
   "outputs": [
    {
     "name": "stdout",
     "output_type": "stream",
     "text": [
      "562\n",
      "8\n"
     ]
    }
   ],
   "source": [
    "basis_snts_w = get_sentences_for_watson(basis_snts)\n",
    "themes_snts_w = get_sentences_for_watson(themes_snts)\n",
    "print(len(basis_snts_w))\n",
    "print(len(themes_snts_w))"
   ]
  },
  {
   "cell_type": "code",
   "execution_count": 17,
   "metadata": {
    "collapsed": true
   },
   "outputs": [],
   "source": [
    "basis_snts_w = basis_snts_w[:20] # for less api requests, if change - create new _soa.json file or rewrite ↓"
   ]
  },
  {
   "cell_type": "code",
   "execution_count": 18,
   "metadata": {},
   "outputs": [
    {
     "name": "stdout",
     "output_type": "stream",
     "text": [
      "2000\n",
      "718\n"
     ]
    }
   ],
   "source": [
    "basis_soa = load_soa(basis_snts_w, 'basis_soa.json', rewrite=False)\n",
    "themes_soa = load_soa(themes_snts_w, 'themes_soa.json', rewrite=False)\n",
    "print(len(basis_soa))\n",
    "print(len(themes_soa))"
   ]
  },
  {
   "cell_type": "code",
   "execution_count": 19,
   "metadata": {},
   "outputs": [
    {
     "name": "stdout",
     "output_type": "stream",
     "text": [
      "189\n",
      "60\n"
     ]
    }
   ],
   "source": [
    "basis_soa = filt_soa_json(basis_soa, max_words_len=6)\n",
    "themes_soa = filt_soa_json(themes_soa, max_words_len=5)\n",
    "print(len(basis_soa))\n",
    "print(len(themes_soa))"
   ]
  },
  {
   "cell_type": "code",
   "execution_count": 35,
   "metadata": {
    "collapsed": true
   },
   "outputs": [],
   "source": [
    "shuffle(basis_soa)"
   ]
  },
  {
   "cell_type": "code",
   "execution_count": 36,
   "metadata": {
    "collapsed": true
   },
   "outputs": [],
   "source": [
    "N = 50\n",
    "if len(basis_soa) < N:\n",
    "    print('Too many sentences to show')"
   ]
  },
  {
   "cell_type": "code",
   "execution_count": 37,
   "metadata": {},
   "outputs": [
    {
     "name": "stdout",
     "output_type": "stream",
     "text": [
      "got by tense\n",
      "got by tense\n",
      "got by tense\n",
      "got by tense\n",
      "got by sbj, tense\n",
      "got by tense\n",
      "got by tense\n",
      "got by tense\n",
      "got by tense\n",
      "got by sbj, tense\n",
      "got by tense\n",
      "got by tense\n",
      "got by tense\n",
      "got by sbj, tense\n",
      "got by tense\n",
      "got by tense\n",
      "got by tense\n",
      "got by tense\n",
      "got by tense\n",
      "got by tense\n",
      "got by tense\n",
      "got by tense\n",
      "got by tense\n",
      "got by tense\n",
      "got by tense\n",
      "got by tense\n",
      "got by tense\n",
      "got by tense\n",
      "got by tense\n",
      "got by tense\n",
      "got by tense\n",
      "got by tense\n",
      "got by sbj, tense\n",
      "got by sbj, tense\n",
      "got by tense\n",
      "got by tense\n",
      "got by tense\n",
      "got by tense\n",
      "got by tense\n",
      "got by sbj, tense\n",
      "got by sbj, tense\n",
      "got by tense\n",
      "got by tense\n",
      "got by tense\n",
      "got by tense\n",
      "got by tense\n",
      "got by tense\n",
      "got by tense\n",
      "got by tense\n",
      "got by tense\n"
     ]
    }
   ],
   "source": [
    "sentence_to_show = get_sentences_to_show(basis_soa=basis_soa, themes_soa=themes_soa, n=N, shuffle_themes=True)"
   ]
  },
  {
   "cell_type": "code",
   "execution_count": 38,
   "metadata": {},
   "outputs": [
    {
     "name": "stdout",
     "output_type": "stream",
     "text": [
      " Homefarers and outgoers jostled Curly on the narrow stone sidewalk.\n",
      "\n",
      " \"What time is it to take place?\"\n",
      "\n",
      " It was not like the boss to make them.\n",
      "\n",
      " I raised my hat and told her my name.\n",
      "\n",
      " If she gets any hotter she'll sizzle!\"\n",
      "\n",
      " I've looked all over the car and can't find him.\n",
      "\n",
      " I learned it from Dad.\n",
      "\n",
      " That's what your d--d ranch has done for me.\n",
      "\n",
      " He put little glass stick in my mouth.\n",
      "\n",
      " \"It has,\" says Mrs. Sampson.\n",
      "\n",
      " I sat and read that book for four hours.\n",
      "\n",
      " Dis is de whitest bunch of sports I ever travelled with.\n",
      "\n",
      " Raidler's attitude toward his charge was quite inexplicable in its way.\n",
      "\n",
      " Lay low and see w'at's his game.\"\n",
      "\n",
      " So that's the way me and Idaho had it.\n",
      "\n",
      " Did I ask you to bring me here?\n",
      "\n",
      " But I ain't going to see you treated unfair,' says he.\n",
      "\n",
      " She opened the gate and slipped inside the corral.\n",
      "\n",
      " \"You're a prince-consort.\"\n",
      "\n",
      " But where is the market for 'em?\n",
      "\n",
      " Oh, I got over it after a while.\n",
      "\n",
      " \"Why don't you have some, too, Jud?\"\n",
      "\n",
      " \"Once I thought I had him.\n",
      "\n",
      " I never held you up for a cent.\n",
      "\n",
      " 'Me and Miss Skinner was married an hour ago.\n",
      "\n",
      " Well, you can frisk me if you wanter.\n",
      "\n",
      " I asked, when Lucullus ceased talking.\n",
      "\n",
      " He saw Webb and stopped, open-mouthed.\n",
      "\n",
      " He's got your eyes, Webb.\n",
      "\n",
      " \"I saw it,\" said Webb.\n",
      "\n",
      " St. Louis is a kind of quiet place, ain't it?'\n",
      "\n",
      " One hits a chunk of mud and sticks.\n",
      "\n",
      " Does Miss Willella make 'em?'\n",
      "\n",
      " Or let him take his Ruby Ott with him.\n",
      "\n",
      " This bursting into bloom won't last with him.\n",
      "\n",
      " In ten minutes the doctor came briskly out.\n",
      "\n",
      " I was anxious to get back to Pina and enjoy life once more.\n",
      "\n",
      " I've notified you fair.'\n",
      "\n",
      " Here Buckley came upon signs of recent upheaval.\n",
      "\n",
      " \"I put it to you straight, Sandy,\" says Idaho, quiet.\n",
      "\n",
      " \"He's no gentleman!\"\n",
      "\n",
      " Raidler returned the money to his pocket.\n",
      "\n",
      " He led McGuire into the east room.\n",
      "\n",
      " \"I don't ever eat 'em.\"\n",
      "\n",
      " I do believe he's afraid of Kuku.\n",
      "\n",
      " He's got a girl down there--Pancha Sales.\"\n",
      "\n",
      " And the mosquitos is some more hellish than common.\"\n",
      "\n",
      " \"No, m'm,\" said Bud.\n",
      "\n",
      " Now I've got to go hunt him.\"\n",
      "\n",
      " All the wonders of education was compressed in it.\n",
      "\n"
     ]
    }
   ],
   "source": [
    "for i in range(N):\n",
    "    print(basis_soa[i]['sentence'])\n",
    "    print()"
   ]
  },
  {
   "cell_type": "markdown",
   "metadata": {},
   "source": [
    "# Pick a sentence from above and see what was achived below"
   ]
  },
  {
   "cell_type": "code",
   "execution_count": 39,
   "metadata": {},
   "outputs": [
    {
     "name": "stdout",
     "output_type": "stream",
     "text": [
      " I fished my own traps on the narrow stone sidewalk.\n",
      "\n",
      " \"What time is our customer support to answer all your questions 24/7?\"\n",
      "\n",
      " It was not like our customer support to answer all your questions 24/7.\n",
      "\n",
      " I raised my hat and fished her my own traps.\n",
      "\n",
      " If me continue my career me'll sizzle!\"\n",
      "\n",
      " Ridgeview Physical Therapy've the quality services and can't find him.\n",
      "\n",
      " I fished my own traps from Dad.\n",
      "\n",
      " Ridgeview Physical Therapy's the quality services has to offer done for me.\n",
      "\n",
      " I fished my own traps stick in my mouth.\n",
      "\n",
      " \"my career,\" continue me.\n",
      "\n",
      " I sat and fished my own traps for four hours.\n",
      "\n",
      " Dis is de my own traps I ever fished with.\n",
      "\n",
      " I fished my own traps in its way.\n",
      "\n",
      " Lay low and see me's my career.\"\n",
      "\n",
      " So Ridgeview Physical Therapy's the quality services and Idaho had it.\n",
      "\n",
      " Did I ask I fished my own traps here?\n",
      "\n",
      " But our customer support to answer all your questions 24/7,' says he.\n",
      "\n",
      " I opened the gate and fished my own traps.\n",
      "\n",
      " \"Ridgeview Physical Therapy're the quality services.\"\n",
      "\n",
      " But where has to offer Ridgeview Physical Therapy the quality services?\n",
      "\n",
      " Oh, I fished my own traps after a while.\n",
      "\n",
      " \"Why don't our customer support to answer all your questions 24/7?\"\n",
      "\n",
      " \"Once I fished my own traps.\n",
      "\n",
      " I never fished my own traps up for a cent.\n",
      "\n",
      " 'Me and I fished my own traps.\n",
      "\n",
      " Well, our custoall your questions 24/7r support to answer all your questions 24/7 if our custoall your questions 24/7r support wanter.\n",
      "\n",
      " I asked, when I fished my own traps.\n",
      "\n",
      " I fished my own traps and stopped, open-mouthed.\n",
      "\n",
      " I's fished my own traps, Webb.\n",
      "\n",
      " \"my own traps,\" fished I.\n",
      "\n",
      " Ridgeview Physical Therapy has to offer the quality services, ain't it?'\n",
      "\n",
      " Ridgeview Physical Therapy has to offer the quality services and sticks.\n",
      "\n",
      " Does me continue my career?'\n",
      "\n",
      " Or let me continue my career with me.\n",
      "\n",
      " our customer support won't to answer all your questions 24/7.\n",
      "\n",
      " In ten minutes I fished briskly out.\n",
      "\n",
      " I was anxious fished back my own traps once more.\n",
      "\n",
      " I've fished my own traps fair.'\n",
      "\n",
      " I fished upon signs of recent upheaval.\n",
      "\n",
      " \"my career, me continue Idaho, quiet.\n",
      "\n",
      " \"me's my career!\"\n",
      "\n",
      " I fished my own traps to his pocket.\n",
      "\n",
      " I fished my own traps into the east room.\n",
      "\n",
      " \"our customer support don't ever to answer all your questions 24/7.\"\n",
      "\n",
      " Ridgeview Physical Therapy has to offer the quality services he's afraid of Kuku.\n",
      "\n",
      " I's fished my own traps--Pancha Sales.\"\n",
      "\n",
      " And Ridgeview Physical Therapy has to offer the quality services.\"\n",
      "\n",
      " \"my own traps,\" fished I.\n",
      "\n",
      " Now our customer support've to answer all your questions 24/7.\"\n",
      "\n",
      " I fished in it.\n",
      "\n"
     ]
    }
   ],
   "source": [
    "for s in sentence_to_show:\n",
    "    print(s)\n",
    "    print()"
   ]
  },
  {
   "cell_type": "markdown",
   "metadata": {},
   "source": [
    "# tmp"
   ]
  },
  {
   "cell_type": "code",
   "execution_count": null,
   "metadata": {
    "collapsed": true
   },
   "outputs": [],
   "source": [
    "tmp_w = get_synonyms('orientation')\n",
    "tmp_w"
   ]
  },
  {
   "cell_type": "code",
   "execution_count": 10,
   "metadata": {
    "collapsed": true
   },
   "outputs": [],
   "source": [
    "tf_idf_basis = ['new',\n",
    "                'phone',\n",
    "                'cell',\n",
    "                'latest',\n",
    "                'best',\n",
    "                'selection',\n",
    "                'find',\n",
    "                'offers',\n",
    "                'page',\n",
    "                'phones',\n",
    "                'along',\n",
    "                'assortment',\n",
    "                'bestbuy',\n",
    "                'buy',\n",
    "                'buying',\n",
    "                'center']\n",
    "tf_idf_themes = ['mba',\n",
    "                 'writing',\n",
    "                 'essay',\n",
    "                 'essays',\n",
    "                 'writers',\n",
    "                 'services',\n",
    "                 'help',\n",
    "                 'order',\n",
    "                 'get',\n",
    "                 'writer',\n",
    "                 'need',\n",
    "                 'custom',\n",
    "                 'write',\n",
    "                 'professional',\n",
    "                 'requirements',\n",
    "                 'service',\n",
    "                 'personal',\n",
    "                 'statement']"
   ]
  },
  {
   "cell_type": "code",
   "execution_count": 11,
   "metadata": {
    "collapsed": true
   },
   "outputs": [],
   "source": [
    "fill_dict(tf_idf_basis, tf_idf_themes, basis_soa, themes_soa)"
   ]
  },
  {
   "cell_type": "code",
   "execution_count": 12,
   "metadata": {},
   "outputs": [
    {
     "data": {
      "text/plain": [
       "({'best': 'v',\n",
       "  'cell': 'n',\n",
       "  'find': 'v',\n",
       "  'latest': 'a',\n",
       "  'new': 'a',\n",
       "  'page': 'n',\n",
       "  'phone': 'n',\n",
       "  'phones': 'n'},\n",
       " {'a': [],\n",
       "  'n': ['essay',\n",
       "   'essay',\n",
       "   'essay',\n",
       "   'essay',\n",
       "   'essay',\n",
       "   'essay',\n",
       "   'essay',\n",
       "   'essay',\n",
       "   'essay',\n",
       "   'essays',\n",
       "   'essays',\n",
       "   'writers',\n",
       "   'writers',\n",
       "   'writers',\n",
       "   'services',\n",
       "   'services',\n",
       "   'help',\n",
       "   'order',\n",
       "   'writer',\n",
       "   'writer',\n",
       "   'writer',\n",
       "   'need',\n",
       "   'custom',\n",
       "   'custom',\n",
       "   'write',\n",
       "   'write',\n",
       "   'write',\n",
       "   'professional',\n",
       "   'requirements',\n",
       "   'service',\n",
       "   'service'],\n",
       "  'r': ['personal'],\n",
       "  'v': ['writing',\n",
       "   'essay',\n",
       "   'essay',\n",
       "   'essay',\n",
       "   'essay',\n",
       "   'essays',\n",
       "   'essays',\n",
       "   'help',\n",
       "   'get',\n",
       "   'need',\n",
       "   'need',\n",
       "   'need',\n",
       "   'need',\n",
       "   'need',\n",
       "   'need']})"
      ]
     },
     "execution_count": 12,
     "metadata": {},
     "output_type": "execute_result"
    }
   ],
   "source": [
    "tf_idf_basis_dict, tf_idf_themes_dict"
   ]
  },
  {
   "cell_type": "code",
   "execution_count": 15,
   "metadata": {
    "collapsed": true
   },
   "outputs": [],
   "source": [
    "word_new_word_dict = replace_tf_idf_top(tf_idf_basis, tf_idf_themes, basis_soa, themes_soa)"
   ]
  },
  {
   "cell_type": "code",
   "execution_count": 16,
   "metadata": {},
   "outputs": [
    {
     "data": {
      "text/plain": [
       "{'best': 'need',\n",
       " 'cell': 'writers',\n",
       " 'find': 'need',\n",
       " 'page': 'essay',\n",
       " 'phone': 'services',\n",
       " 'phones': 'service'}"
      ]
     },
     "execution_count": 16,
     "metadata": {},
     "output_type": "execute_result"
    }
   ],
   "source": [
    "word_new_word_dict"
   ]
  },
  {
   "cell_type": "code",
   "execution_count": null,
   "metadata": {
    "collapsed": true
   },
   "outputs": [],
   "source": [
    "s1 = basis_soa[0]['sentence']\n",
    "s1"
   ]
  },
  {
   "cell_type": "code",
   "execution_count": null,
   "metadata": {
    "collapsed": true
   },
   "outputs": [],
   "source": [
    "get_wn_tagged_sentence(s1)"
   ]
  },
  {
   "cell_type": "code",
   "execution_count": null,
   "metadata": {
    "collapsed": true
   },
   "outputs": [],
   "source": [
    "basis_txt = []\n",
    "for basis_text in basis_texts[:1]:\n",
    "    with open(basis_text) as f:\n",
    "        basis_txt += f.readlines()\n",
    "\n",
    "tf_idf = get_TfIdf_scores(basis_txt, stemm=False)\n",
    "to_change = tf_idf[tf_idf['TF/IDF'] > 0.08]['keyword'].tolist() ### поиграть с порогом\n",
    "to_check = tf_idf[tf_idf['TF/IDF'] <= 0.08]['keyword'].tolist()"
   ]
  },
  {
   "cell_type": "code",
   "execution_count": null,
   "metadata": {
    "collapsed": true
   },
   "outputs": [],
   "source": [
    "themes_txt = []\n",
    "for themes_text in themes_texts[:1]:\n",
    "    with open(themes_text) as f:\n",
    "        themes_txt += f.readlines()\n",
    "\n",
    "tf_idf = get_TfIdf_scores(themes_txt, stemm=False)\n",
    "top_themes = tf_idf[tf_idf['TF/IDF'] > 0.08] ### поиграть с порогом\n",
    "top_themes = top_themes['keyword'].tolist()"
   ]
  },
  {
   "cell_type": "code",
   "execution_count": null,
   "metadata": {
    "collapsed": true,
    "scrolled": false
   },
   "outputs": [],
   "source": [
    "keyword = wn.synsets(get_TfIdf_scores(themes_txt, stemm=True)['keyword'].tolist()[0])[0]\n",
    "print(keyword.lemma_names())\n",
    "for i in to_check:\n",
    "    try:\n",
    "        b = wn.synsets(i)[0]\n",
    "        s = wn.similarity(keyword, b)\n",
    "        if s == 0.0:\n",
    "            to_change.append(i)\n",
    "    except: \n",
    "        to_change.append(i)\n",
    "\n",
    "print(len(to_change))\n",
    "to_change"
   ]
  },
  {
   "cell_type": "code",
   "execution_count": null,
   "metadata": {
    "collapsed": true
   },
   "outputs": [],
   "source": []
  }
 ],
 "metadata": {
  "kernelspec": {
   "display_name": "Python 3",
   "language": "python",
   "name": "python3"
  },
  "language_info": {
   "codemirror_mode": {
    "name": "ipython",
    "version": 3
   },
   "file_extension": ".py",
   "mimetype": "text/x-python",
   "name": "python",
   "nbconvert_exporter": "python",
   "pygments_lexer": "ipython3",
   "version": "3.6.3"
  }
 },
 "nbformat": 4,
 "nbformat_minor": 2
}
